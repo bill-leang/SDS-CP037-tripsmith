{
 "cells": [
  {
   "cell_type": "markdown",
   "id": "2630515d",
   "metadata": {},
   "source": [
    "# Data Analysis with Secure API Key Management\n",
    "\n",
    "This notebook demonstrates how to securely handle API keys in Jupyter notebooks.\n"
   ]
  },
  {
   "cell_type": "code",
   "execution_count": null,
   "id": "d7b14c8f",
   "metadata": {},
   "outputs": [
    {
     "data": {
      "text/plain": [
       "True"
      ]
     },
     "execution_count": 13,
     "metadata": {},
     "output_type": "execute_result"
    }
   ],
   "source": [
    "# Import required libraries\n",
    "import os\n",
    "import pandas as pd\n",
    "import requests\n",
    "from dotenv import load_dotenv\n",
    "import getpass\n",
    "\n",
    "# Load environment variables\n",
    "load_dotenv()\n"
   ]
  },
  {
   "cell_type": "markdown",
   "id": "91e2a23d",
   "metadata": {},
   "source": [
    "## Method 1: Using Environment Variables (Recommended)\n",
    "\n",
    "\n"
   ]
  },
  {
   "cell_type": "code",
   "execution_count": null,
   "id": "428fab8f",
   "metadata": {},
   "outputs": [
    {
     "name": "stdout",
     "output_type": "stream",
     "text": [
      "✅ API key loaded successfully!\n",
      "Key starts with: ghp_Mc6G...\n"
     ]
    }
   ],
   "source": [
    "# Get API key from environment variables\n",
    "tavily_api_key = os.getenv('TAVILY')\n",
    "\n",
    "if not tavily_api_key:\n",
    "    print(\"❌ API_KEY not found in environment variables\")\n",
    "    print(\"Please set it in your .env file or system environment\")\n",
    "else:\n",
    "    print(\"✅ API key loaded successfully!\")\n",
    "    print(f\"Key starts with: {tavily_api_key[:8]}...\")\n"
   ]
  },
  {
   "cell_type": "code",
   "execution_count": 20,
   "id": "e495b424",
   "metadata": {},
   "outputs": [
    {
     "name": "stdout",
     "output_type": "stream",
     "text": [
      "{'query': 'what are the latest on nvidia?', 'follow_up_questions': None, 'answer': 'As of 2025, NVIDIA continues to innovate with new software updates and hardware advancements, including the upcoming release of the Blackwell RTX series. Recent stock news highlights its strong performance in the AI market. For detailed updates, visit official NVIDIA sources.', 'images': [], 'results': [{'url': 'https://www.nvidia.com/en-us/software/nvidia-app/release-highlights/', 'title': 'Updates and Release Highlights - NVIDIA', 'content': 'The latest NVIDIA Broadcast release features two new effects – the new Studio Voice, which upgrades your mic to deliver premium audio quality, and Virtual', 'score': 0.7931224, 'raw_content': None}, {'url': 'https://finance.yahoo.com/quote/NVDA/news/', 'title': 'NVIDIA Corporation (NVDA) Latest Stock News & Headlines', 'content': 'Get the latest NVIDIA Corporation (NVDA) stock news and headlines to help you in your trading and investing decisions.', 'score': 0.6504012, 'raw_content': None}, {'url': 'https://nvidianews.nvidia.com/news/latest', 'title': 'Latest News - NVIDIA Newsroom', 'content': \"NVIDIA Blackwell RTX is coming to the cloud on Wednesday, Sept. 10 — an upgrade so big it couldn't wait until a Thursday. Don't miss a special early GFN\", 'score': 0.63234437, 'raw_content': None}, {'url': 'https://seekingalpha.com/symbol/NVDA/news', 'title': 'NVIDIA Corporation (NVDA) Latest Stock News - Seeking Alpha', 'content': 'NVDA News · AMD, Nvidia slump as Broadcom gets new customer for AI chip · Dividend Roundup: Broadcom, Salesforce, Nvidia, Walmart, and more · Broadcom surges', 'score': 0.4833807, 'raw_content': None}, {'url': 'https://www.cnn.com/markets/stocks/NVDA', 'title': 'NVDA Stock Quote Price and Forecast - CNN', 'content': 'Latest NVDA news ; 10:00am ET Broadcom Stock Surges on $10B AI Chip Deal Tied to OpenAI ; 6:30am ET Nvidia Joins Honeywell as Quantinuum Hits $10 Billion', 'score': 0.30603993, 'raw_content': None}], 'response_time': 1.39, 'request_id': 'a9122ce3-873f-4062-ab2f-52ed72e73317'}\n"
     ]
    },
    {
     "ename": "TypeError",
     "evalue": "Markdown expects text, not {'query': 'what are the latest on nvidia?', 'follow_up_questions': None, 'answer': 'As of 2025, NVIDIA continues to innovate with new software updates and hardware advancements, including the upcoming release of the Blackwell RTX series. Recent stock news highlights its strong performance in the AI market. For detailed updates, visit official NVIDIA sources.', 'images': [], 'results': [{'url': 'https://www.nvidia.com/en-us/software/nvidia-app/release-highlights/', 'title': 'Updates and Release Highlights - NVIDIA', 'content': 'The latest NVIDIA Broadcast release features two new effects – the new Studio Voice, which upgrades your mic to deliver premium audio quality, and Virtual', 'score': 0.7931224, 'raw_content': None}, {'url': 'https://finance.yahoo.com/quote/NVDA/news/', 'title': 'NVIDIA Corporation (NVDA) Latest Stock News & Headlines', 'content': 'Get the latest NVIDIA Corporation (NVDA) stock news and headlines to help you in your trading and investing decisions.', 'score': 0.6504012, 'raw_content': None}, {'url': 'https://nvidianews.nvidia.com/news/latest', 'title': 'Latest News - NVIDIA Newsroom', 'content': \"NVIDIA Blackwell RTX is coming to the cloud on Wednesday, Sept. 10 — an upgrade so big it couldn't wait until a Thursday. Don't miss a special early GFN\", 'score': 0.63234437, 'raw_content': None}, {'url': 'https://seekingalpha.com/symbol/NVDA/news', 'title': 'NVIDIA Corporation (NVDA) Latest Stock News - Seeking Alpha', 'content': 'NVDA News · AMD, Nvidia slump as Broadcom gets new customer for AI chip · Dividend Roundup: Broadcom, Salesforce, Nvidia, Walmart, and more · Broadcom surges', 'score': 0.4833807, 'raw_content': None}, {'url': 'https://www.cnn.com/markets/stocks/NVDA', 'title': 'NVDA Stock Quote Price and Forecast - CNN', 'content': 'Latest NVDA news ; 10:00am ET Broadcom Stock Surges on $10B AI Chip Deal Tied to OpenAI ; 6:30am ET Nvidia Joins Honeywell as Quantinuum Hits $10 Billion', 'score': 0.30603993, 'raw_content': None}], 'response_time': 1.39, 'request_id': 'a9122ce3-873f-4062-ab2f-52ed72e73317'}",
     "output_type": "error",
     "traceback": [
      "\u001b[31m---------------------------------------------------------------------------\u001b[39m",
      "\u001b[31mTypeError\u001b[39m                                 Traceback (most recent call last)",
      "\u001b[36mCell\u001b[39m\u001b[36m \u001b[39m\u001b[32mIn[20]\u001b[39m\u001b[32m, line 10\u001b[39m\n\u001b[32m      5\u001b[39m response = client.search(\n\u001b[32m      6\u001b[39m     query=\u001b[33m\"\u001b[39m\u001b[33mwhat are the latest on nvidia?\u001b[39m\u001b[33m\"\u001b[39m,\n\u001b[32m      7\u001b[39m     include_answer=\u001b[33m\"\u001b[39m\u001b[33mbasic\u001b[39m\u001b[33m\"\u001b[39m\n\u001b[32m      8\u001b[39m )\n\u001b[32m      9\u001b[39m \u001b[38;5;28mprint\u001b[39m(response)\n\u001b[32m---> \u001b[39m\u001b[32m10\u001b[39m \u001b[43mMarkdown\u001b[49m\u001b[43m(\u001b[49m\u001b[43mresponse\u001b[49m\u001b[43m)\u001b[49m\n",
      "\u001b[36mFile \u001b[39m\u001b[32m~/Documents/Projects/SDS-CP037-tripsmith/venv/lib/python3.12/site-packages/IPython/core/display.py:344\u001b[39m, in \u001b[36mDisplayObject.__init__\u001b[39m\u001b[34m(self, data, url, filename, metadata)\u001b[39m\n\u001b[32m    341\u001b[39m     \u001b[38;5;28mself\u001b[39m.metadata = {}\n\u001b[32m    343\u001b[39m \u001b[38;5;28mself\u001b[39m.reload()\n\u001b[32m--> \u001b[39m\u001b[32m344\u001b[39m \u001b[38;5;28;43mself\u001b[39;49m\u001b[43m.\u001b[49m\u001b[43m_check_data\u001b[49m\u001b[43m(\u001b[49m\u001b[43m)\u001b[49m\n",
      "\u001b[36mFile \u001b[39m\u001b[32m~/Documents/Projects/SDS-CP037-tripsmith/venv/lib/python3.12/site-packages/IPython/core/display.py:423\u001b[39m, in \u001b[36mTextDisplayObject._check_data\u001b[39m\u001b[34m(self)\u001b[39m\n\u001b[32m    421\u001b[39m \u001b[38;5;28;01mdef\u001b[39;00m\u001b[38;5;250m \u001b[39m\u001b[34m_check_data\u001b[39m(\u001b[38;5;28mself\u001b[39m):\n\u001b[32m    422\u001b[39m     \u001b[38;5;28;01mif\u001b[39;00m \u001b[38;5;28mself\u001b[39m.data \u001b[38;5;129;01mis\u001b[39;00m \u001b[38;5;129;01mnot\u001b[39;00m \u001b[38;5;28;01mNone\u001b[39;00m \u001b[38;5;129;01mand\u001b[39;00m \u001b[38;5;129;01mnot\u001b[39;00m \u001b[38;5;28misinstance\u001b[39m(\u001b[38;5;28mself\u001b[39m.data, \u001b[38;5;28mstr\u001b[39m):\n\u001b[32m--> \u001b[39m\u001b[32m423\u001b[39m         \u001b[38;5;28;01mraise\u001b[39;00m \u001b[38;5;167;01mTypeError\u001b[39;00m(\u001b[33m\"\u001b[39m\u001b[38;5;132;01m%s\u001b[39;00m\u001b[33m expects text, not \u001b[39m\u001b[38;5;132;01m%r\u001b[39;00m\u001b[33m\"\u001b[39m % (\u001b[38;5;28mself\u001b[39m.\u001b[34m__class__\u001b[39m.\u001b[34m__name__\u001b[39m, \u001b[38;5;28mself\u001b[39m.data))\n",
      "\u001b[31mTypeError\u001b[39m: Markdown expects text, not {'query': 'what are the latest on nvidia?', 'follow_up_questions': None, 'answer': 'As of 2025, NVIDIA continues to innovate with new software updates and hardware advancements, including the upcoming release of the Blackwell RTX series. Recent stock news highlights its strong performance in the AI market. For detailed updates, visit official NVIDIA sources.', 'images': [], 'results': [{'url': 'https://www.nvidia.com/en-us/software/nvidia-app/release-highlights/', 'title': 'Updates and Release Highlights - NVIDIA', 'content': 'The latest NVIDIA Broadcast release features two new effects – the new Studio Voice, which upgrades your mic to deliver premium audio quality, and Virtual', 'score': 0.7931224, 'raw_content': None}, {'url': 'https://finance.yahoo.com/quote/NVDA/news/', 'title': 'NVIDIA Corporation (NVDA) Latest Stock News & Headlines', 'content': 'Get the latest NVIDIA Corporation (NVDA) stock news and headlines to help you in your trading and investing decisions.', 'score': 0.6504012, 'raw_content': None}, {'url': 'https://nvidianews.nvidia.com/news/latest', 'title': 'Latest News - NVIDIA Newsroom', 'content': \"NVIDIA Blackwell RTX is coming to the cloud on Wednesday, Sept. 10 — an upgrade so big it couldn't wait until a Thursday. Don't miss a special early GFN\", 'score': 0.63234437, 'raw_content': None}, {'url': 'https://seekingalpha.com/symbol/NVDA/news', 'title': 'NVIDIA Corporation (NVDA) Latest Stock News - Seeking Alpha', 'content': 'NVDA News · AMD, Nvidia slump as Broadcom gets new customer for AI chip · Dividend Roundup: Broadcom, Salesforce, Nvidia, Walmart, and more · Broadcom surges', 'score': 0.4833807, 'raw_content': None}, {'url': 'https://www.cnn.com/markets/stocks/NVDA', 'title': 'NVDA Stock Quote Price and Forecast - CNN', 'content': 'Latest NVDA news ; 10:00am ET Broadcom Stock Surges on $10B AI Chip Deal Tied to OpenAI ; 6:30am ET Nvidia Joins Honeywell as Quantinuum Hits $10 Billion', 'score': 0.30603993, 'raw_content': None}], 'response_time': 1.39, 'request_id': 'a9122ce3-873f-4062-ab2f-52ed72e73317'}"
     ]
    }
   ],
   "source": [
    "# To install: pip install tavily-python\n",
    "from IPython.core.display import Markdown\n",
    "from tavily import TavilyClient\n",
    "client = TavilyClient(tavily_api_key)\n",
    "response = client.search(\n",
    "    query=\"what are the latest on nvidia?\",\n",
    "    include_answer=\"basic\"\n",
    ")\n",
    "print(response)\n",
    "Markdown(response)"
   ]
  }
 ],
 "metadata": {
  "kernelspec": {
   "display_name": "venv",
   "language": "python",
   "name": "python3"
  },
  "language_info": {
   "codemirror_mode": {
    "name": "ipython",
    "version": 3
   },
   "file_extension": ".py",
   "mimetype": "text/x-python",
   "name": "python",
   "nbconvert_exporter": "python",
   "pygments_lexer": "ipython3",
   "version": "3.12.3"
  }
 },
 "nbformat": 4,
 "nbformat_minor": 5
}
